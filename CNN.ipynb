{
 "cells": [
  {
   "cell_type": "code",
   "execution_count": 452,
   "metadata": {},
   "outputs": [],
   "source": [
    "import pandas as pd\n",
    "import numpy as np\n",
    "# import matplotlib.pyplot as plt"
   ]
  },
  {
   "cell_type": "markdown",
   "metadata": {},
   "source": [
    "## Loading Datasets"
   ]
  },
  {
   "cell_type": "code",
   "execution_count": 453,
   "metadata": {},
   "outputs": [],
   "source": [
    "df1=pd.read_csv('Additional.csv',header=None)"
   ]
  },
  {
   "cell_type": "code",
   "execution_count": 454,
   "metadata": {},
   "outputs": [],
   "source": [
    "df2=pd.read_csv('Hypertension.csv',header=None)"
   ]
  },
  {
   "cell_type": "code",
   "execution_count": 455,
   "metadata": {},
   "outputs": [],
   "source": [
    "df3=pd.read_csv('Healthy.csv',header=None)"
   ]
  },
  {
   "cell_type": "code",
   "execution_count": 456,
   "metadata": {},
   "outputs": [
    {
     "data": {
      "text/plain": [
       "((195, 1024), (219, 1024), (219, 1024))"
      ]
     },
     "execution_count": 456,
     "metadata": {},
     "output_type": "execute_result"
    }
   ],
   "source": [
    "df1.shape,df2.shape,df3.shape"
   ]
  },
  {
   "cell_type": "code",
   "execution_count": 483,
   "metadata": {},
   "outputs": [
    {
     "data": {
      "image/png": "[encoded data removed]",
      "text/plain": [
       "<Figure size 432x288 with 1 Axes>"
      ]
     },
     "metadata": {
      "needs_background": "light"
     },
     "output_type": "display_data"
    }
   ],
   "source": [
    "plt.plot(list(range(1024)),df1.iloc[0,:],c='r')\n",
    "plt.plot(list(range(1024)),df1.iloc[1,:],c='b')\n",
    "plt.plot(list(range(1024)),df1.iloc[2,:],c='g')\n",
    "plt.show()"
   ]
  },
  {
   "cell_type": "markdown",
   "metadata": {},
   "source": [
    "# Formatting the training data"
   ]
  },
  {
   "cell_type": "code",
   "execution_count": 484,
   "metadata": {},
   "outputs": [],
   "source": [
    "np_h=np.zeros((73+59,3,1024)).astype(np.float16)"
   ]
  },
  {
   "cell_type": "code",
   "execution_count": 485,
   "metadata": {},
   "outputs": [],
   "source": [
    "ind_y=[(i,1.0) for i in range(73)]+[(i,0.0) for i in range(73,73+59)]"
   ]
  },
  {
   "cell_type": "code",
   "execution_count": 486,
   "metadata": {},
   "outputs": [
    {
     "data": {
      "text/plain": [
       "[(49, 1.0),\n",
       " (89, 0.0),\n",
       " (29, 1.0),\n",
       " (50, 1.0),\n",
       " (33, 1.0),\n",
       " (59, 1.0),\n",
       " (35, 1.0),\n",
       " (115, 0.0),\n",
       " (103, 0.0),\n",
       " (54, 1.0)]"
      ]
     },
     "execution_count": 486,
     "metadata": {},
     "output_type": "execute_result"
    }
   ],
   "source": [
    "np.random.shuffle(ind_y)\n",
    "ind_y[:10]"
   ]
  },
  {
   "cell_type": "code",
   "execution_count": 487,
   "metadata": {},
   "outputs": [],
   "source": [
    "labels=np.array([i[1] for i in ind_y])"
   ]
  },
  {
   "cell_type": "code",
   "execution_count": 488,
   "metadata": {},
   "outputs": [],
   "source": [
    "for i in range(0,73+59):\n",
    "    #taking ith element from ind_y\n",
    "    ind=ind_y[i][0]\n",
    "    if ind<73:\n",
    "        np_h[i,:,:]=df2.iloc[(3*ind):(3*ind+3),:]\n",
    "    else:\n",
    "        np_h[i,:,:]=df3.iloc[(3*(ind-73)):3*(ind-73)+3,:]"
   ]
  },
  {
   "cell_type": "code",
   "execution_count": 489,
   "metadata": {},
   "outputs": [
    {
     "data": {
      "text/plain": [
       "(132, 3, 1024)"
      ]
     },
     "execution_count": 489,
     "metadata": {},
     "output_type": "execute_result"
    }
   ],
   "source": [
    "np_h.shape"
   ]
  },
  {
   "cell_type": "markdown",
   "metadata": {},
   "source": [
    "# Formatting the test data"
   ]
  },
  {
   "cell_type": "code",
   "execution_count": 490,
   "metadata": {},
   "outputs": [],
   "source": [
    "np_h_t=np.zeros((14+65,3,1024)).astype(np.float16)"
   ]
  },
  {
   "cell_type": "code",
   "execution_count": 491,
   "metadata": {},
   "outputs": [],
   "source": [
    "ind_y_t=[(i,1.0) for i in range(65)]+[(i,0.0) for i in range(65,65+14)]"
   ]
  },
  {
   "cell_type": "code",
   "execution_count": 492,
   "metadata": {},
   "outputs": [],
   "source": [
    "labels_t=np.array([i[1] for i in ind_y_t])"
   ]
  },
  {
   "cell_type": "code",
   "execution_count": 493,
   "metadata": {},
   "outputs": [],
   "source": [
    "for i in range(0,65+14):\n",
    "    ind=ind_y_t[i][0]\n",
    "    if ind<65:\n",
    "        np_h_t[i,:,:]=df1.iloc[(3*ind):(3*ind+3),:]\n",
    "    else:\n",
    "        np_h_t[i,:,:]=df3.iloc[(3*(ind-65)):3*(ind-65)+3,:]"
   ]
  },
  {
   "cell_type": "code",
   "execution_count": 494,
   "metadata": {},
   "outputs": [
    {
     "data": {
      "text/plain": [
       "(79, 3, 1024)"
      ]
     },
     "execution_count": 494,
     "metadata": {},
     "output_type": "execute_result"
    }
   ],
   "source": [
    "np_h_t.shape"
   ]
  },
  {
   "cell_type": "markdown",
   "metadata": {},
   "source": [
    "# Making CNN"
   ]
  },
  {
   "cell_type": "markdown",
   "metadata": {},
   "source": [
    "SHift tab"
   ]
  },
  {
   "cell_type": "code",
   "execution_count": 495,
   "metadata": {},
   "outputs": [],
   "source": [
    "import tensorflow as tf\n",
    "from tensorflow.keras import datasets, layers, models\n",
    "import matplotlib.pyplot as pltls"
   ]
  },
  {
   "cell_type": "code",
   "execution_count": 519,
   "metadata": {},
   "outputs": [],
   "source": [
    "model = models.Sequential()\n",
    "model.add(layers.Conv2D(16, (3,5), strides=(1,1),padding='valid',activation='relu', input_shape=(3, 1024,1)))\n",
    "model.add(layers.MaxPooling2D((1,5)))\n",
    "model.add(layers.Conv2D(32, (1, 5), activation='relu'))\n",
    "model.add(layers.MaxPooling2D((1,5)))\n",
    "model.add(layers.Flatten())\n",
    "model.add(layers.Dense(100))\n",
    "model.add(layers.Dense(1,activation='sigmoid'))"
   ]
  },
  {
   "cell_type": "code",
   "execution_count": 520,
   "metadata": {},
   "outputs": [
    {
     "name": "stdout",
     "output_type": "stream",
     "text": [
      "Model: \"sequential_54\"\n",
      "_________________________________________________________________\n",
      "Layer (type)                 Output Shape              Param #   \n",
      "=================================================================\n",
      "conv2d_79 (Conv2D)           (None, 1, 1020, 16)       256       \n",
      "_________________________________________________________________\n",
      "max_pooling2d_52 (MaxPooling (None, 1, 204, 16)        0         \n",
      "_________________________________________________________________\n",
      "conv2d_80 (Conv2D)           (None, 1, 200, 32)        2592      \n",
      "_________________________________________________________________\n",
      "max_pooling2d_53 (MaxPooling (None, 1, 40, 32)         0         \n",
      "_________________________________________________________________\n",
      "flatten_16 (Flatten)         (None, 1280)              0         \n",
      "_________________________________________________________________\n",
      "dense_29 (Dense)             (None, 100)               128100    \n",
      "_________________________________________________________________\n",
      "dense_30 (Dense)             (None, 1)                 101       \n",
      "=================================================================\n",
      "Total params: 131,049\n",
      "Trainable params: 131,049\n",
      "Non-trainable params: 0\n",
      "_________________________________________________________________\n"
     ]
    }
   ],
   "source": [
    "model.summary()"
   ]
  },
  {
   "cell_type": "code",
   "execution_count": 521,
   "metadata": {},
   "outputs": [],
   "source": [
    "model.compile(loss='binary_crossentropy')"
   ]
  },
  {
   "cell_type": "code",
   "execution_count": 522,
   "metadata": {},
   "outputs": [],
   "source": [
    "np_h=np_h.reshape((-1,3,1024,1))\n",
    "np_h_t=np_h_t.reshape((-1,3,1024,1))"
   ]
  },
  {
   "cell_type": "code",
   "execution_count": 523,
   "metadata": {},
   "outputs": [
    {
     "data": {
      "text/plain": [
       "(132, 3, 1024, 1)"
      ]
     },
     "execution_count": 523,
     "metadata": {},
     "output_type": "execute_result"
    }
   ],
   "source": [
    "np_h.shape"
   ]
  },
  {
   "cell_type": "markdown",
   "metadata": {},
   "source": [
    "# training"
   ]
  },
  {
   "cell_type": "code",
   "execution_count": 524,
   "metadata": {
    "scrolled": true
   },
   "outputs": [
    {
     "name": "stdout",
     "output_type": "stream",
     "text": [
      "Train on 132 samples\n",
      "Epoch 1/8\n",
      "132/132 [==============================] - 2s 17ms/sample - loss: 0.5423\n",
      "Epoch 2/8\n",
      "132/132 [==============================] - 1s 10ms/sample - loss: 0.2427\n",
      "Epoch 3/8\n",
      "132/132 [==============================] - 1s 7ms/sample - loss: 0.0618\n",
      "Epoch 4/8\n",
      "132/132 [==============================] - 1s 6ms/sample - loss: 0.0316\n",
      "Epoch 5/8\n",
      "132/132 [==============================] - 1s 9ms/sample - loss: 0.0150\n",
      "Epoch 6/8\n",
      "132/132 [==============================] - 0s 2ms/sample - loss: 0.0061\n",
      "Epoch 7/8\n",
      "132/132 [==============================] - 1s 9ms/sample - loss: 0.0015\n",
      "Epoch 8/8\n",
      "132/132 [==============================] - 1s 5ms/sample - loss: 6.6203e-04\n"
     ]
    },
    {
     "data": {
      "text/plain": [
       "<tensorflow.python.keras.callbacks.History at 0x7f84f5211c90>"
      ]
     },
     "execution_count": 524,
     "metadata": {},
     "output_type": "execute_result"
    }
   ],
   "source": [
    "model.fit(x=np_h,y=labels,batch_size=5,epochs=8)"
   ]
  },
  {
   "cell_type": "markdown",
   "metadata": {},
   "source": [
    "# Predicting trainset"
   ]
  },
  {
   "cell_type": "code",
   "execution_count": 525,
   "metadata": {},
   "outputs": [
    {
     "data": {
      "text/plain": [
       "((132, 1), array([[0.9995816 ],\n",
       "        [0.        ],\n",
       "        [0.9995092 ],\n",
       "        [0.9918897 ],\n",
       "        [0.99746156]], dtype=float32))"
      ]
     },
     "execution_count": 525,
     "metadata": {},
     "output_type": "execute_result"
    }
   ],
   "source": [
    "z=model.predict(np_h)\n",
    "z.shape,z[:5]"
   ]
  },
  {
   "cell_type": "code",
   "execution_count": 526,
   "metadata": {},
   "outputs": [
    {
     "data": {
      "text/plain": [
       "((132, 1), array([[1],\n",
       "        [0],\n",
       "        [1],\n",
       "        [1],\n",
       "        [1]]))"
      ]
     },
     "execution_count": 526,
     "metadata": {},
     "output_type": "execute_result"
    }
   ],
   "source": [
    "z_new=np.where(z>0.44,1,0)\n",
    "z_new.shape,z_new[:5]"
   ]
  },
  {
   "cell_type": "code",
   "execution_count": 527,
   "metadata": {},
   "outputs": [],
   "source": [
    "corr=0\n",
    "for i in range(132):\n",
    "    if z_new[i]==labels[i]:\n",
    "        corr+=1"
   ]
  },
  {
   "cell_type": "code",
   "execution_count": 528,
   "metadata": {},
   "outputs": [
    {
     "name": "stdout",
     "output_type": "stream",
     "text": [
      "1.0\n"
     ]
    }
   ],
   "source": [
    "print(corr/132)"
   ]
  },
  {
   "cell_type": "markdown",
   "metadata": {},
   "source": [
    "# Predicting test set"
   ]
  },
  {
   "cell_type": "code",
   "execution_count": 529,
   "metadata": {},
   "outputs": [
    {
     "data": {
      "text/plain": [
       "((79, 1), array([[0.99990666],\n",
       "        [0.9959938 ],\n",
       "        [0.9762269 ],\n",
       "        [0.9982933 ],\n",
       "        [0.999764  ]], dtype=float32))"
      ]
     },
     "execution_count": 529,
     "metadata": {},
     "output_type": "execute_result"
    }
   ],
   "source": [
    "z=model.predict(np_h_t)\n",
    "z.shape,z[:5]"
   ]
  },
  {
   "cell_type": "code",
   "execution_count": 530,
   "metadata": {},
   "outputs": [
    {
     "data": {
      "text/plain": [
       "((79, 1), array([[1],\n",
       "        [1],\n",
       "        [1],\n",
       "        [1],\n",
       "        [1]]))"
      ]
     },
     "execution_count": 530,
     "metadata": {},
     "output_type": "execute_result"
    }
   ],
   "source": [
    "z_new=np.where(z>0.44,1,0)\n",
    "z_new.shape,z_new[:5]"
   ]
  },
  {
   "cell_type": "code",
   "execution_count": 531,
   "metadata": {},
   "outputs": [],
   "source": [
    "corr=0\n",
    "for i in range(79):\n",
    "    if z_new[i]==labels_t[i]:\n",
    "        corr+=1"
   ]
  },
  {
   "cell_type": "code",
   "execution_count": 532,
   "metadata": {},
   "outputs": [
    {
     "name": "stdout",
     "output_type": "stream",
     "text": [
      "0.9873417721518988\n"
     ]
    }
   ],
   "source": [
    "print(corr/79)"
   ]
  },
  {
   "cell_type": "code",
   "execution_count": null,
   "metadata": {},
   "outputs": [],
   "source": []
  },
  {
   "cell_type": "code",
   "execution_count": null,
   "metadata": {},
   "outputs": [],
   "source": []
  }
 ],
 "metadata": {
  "kernelspec": {
   "display_name": "Python 3",
   "language": "python",
   "name": "python3"
  },
  "language_info": {
   "codemirror_mode": {
    "name": "ipython",
    "version": 3
   },
   "file_extension": ".py",
   "mimetype": "text/x-python",
   "name": "python",
   "nbconvert_exporter": "python",
   "pygments_lexer": "ipython3",
   "version": "3.7.5"
  }
 },
 "nbformat": 4,
 "nbformat_minor": 4
}
